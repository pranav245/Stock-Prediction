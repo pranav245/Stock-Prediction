{
 "cells": [
  {
   "cell_type": "markdown",
   "metadata": {},
   "source": [
    "## Stock Prediction\n",
    "\n",
    "* Here task is to predict stocks from using previous stock rates"
   ]
  },
  {
   "cell_type": "markdown",
   "metadata": {},
   "source": [
    "### 1. Collection of Database / Necessary requirement for project"
   ]
  },
  {
   "cell_type": "markdown",
   "metadata": {},
   "source": [
    "* Data of company stocks price is downloaded from `https://www.openml.org/d/223`"
   ]
  },
  {
   "cell_type": "code",
   "execution_count": 1,
   "metadata": {},
   "outputs": [],
   "source": [
    "import pandas as pd"
   ]
  },
  {
   "cell_type": "code",
   "execution_count": 2,
   "metadata": {},
   "outputs": [],
   "source": [
    "data = pd.read_csv(\"stock.csv\")"
   ]
  },
  {
   "cell_type": "code",
   "execution_count": 3,
   "metadata": {},
   "outputs": [
    {
     "data": {
      "text/html": [
       "<div>\n",
       "<style scoped>\n",
       "    .dataframe tbody tr th:only-of-type {\n",
       "        vertical-align: middle;\n",
       "    }\n",
       "\n",
       "    .dataframe tbody tr th {\n",
       "        vertical-align: top;\n",
       "    }\n",
       "\n",
       "    .dataframe thead th {\n",
       "        text-align: right;\n",
       "    }\n",
       "</style>\n",
       "<table border=\"1\" class=\"dataframe\">\n",
       "  <thead>\n",
       "    <tr style=\"text-align: right;\">\n",
       "      <th></th>\n",
       "      <th>company1</th>\n",
       "      <th>company2</th>\n",
       "      <th>company3</th>\n",
       "      <th>company4</th>\n",
       "      <th>company5</th>\n",
       "      <th>company6</th>\n",
       "      <th>company7</th>\n",
       "      <th>company8</th>\n",
       "      <th>company9</th>\n",
       "      <th>company10</th>\n",
       "    </tr>\n",
       "  </thead>\n",
       "  <tbody>\n",
       "    <tr>\n",
       "      <th>0</th>\n",
       "      <td>17.219</td>\n",
       "      <td>50.500</td>\n",
       "      <td>18.750</td>\n",
       "      <td>43.000</td>\n",
       "      <td>60.875</td>\n",
       "      <td>26.375</td>\n",
       "      <td>67.750</td>\n",
       "      <td>19.000</td>\n",
       "      <td>48.750</td>\n",
       "      <td>34.875</td>\n",
       "    </tr>\n",
       "    <tr>\n",
       "      <th>1</th>\n",
       "      <td>17.891</td>\n",
       "      <td>51.375</td>\n",
       "      <td>19.625</td>\n",
       "      <td>44.000</td>\n",
       "      <td>62.000</td>\n",
       "      <td>26.125</td>\n",
       "      <td>68.125</td>\n",
       "      <td>19.125</td>\n",
       "      <td>48.750</td>\n",
       "      <td>35.625</td>\n",
       "    </tr>\n",
       "    <tr>\n",
       "      <th>2</th>\n",
       "      <td>18.438</td>\n",
       "      <td>50.875</td>\n",
       "      <td>19.875</td>\n",
       "      <td>43.875</td>\n",
       "      <td>61.875</td>\n",
       "      <td>27.250</td>\n",
       "      <td>68.500</td>\n",
       "      <td>18.250</td>\n",
       "      <td>49.000</td>\n",
       "      <td>36.375</td>\n",
       "    </tr>\n",
       "    <tr>\n",
       "      <th>3</th>\n",
       "      <td>18.672</td>\n",
       "      <td>51.500</td>\n",
       "      <td>20.000</td>\n",
       "      <td>44.000</td>\n",
       "      <td>62.625</td>\n",
       "      <td>27.875</td>\n",
       "      <td>69.375</td>\n",
       "      <td>18.375</td>\n",
       "      <td>49.625</td>\n",
       "      <td>36.250</td>\n",
       "    </tr>\n",
       "    <tr>\n",
       "      <th>4</th>\n",
       "      <td>17.438</td>\n",
       "      <td>49.000</td>\n",
       "      <td>20.000</td>\n",
       "      <td>41.375</td>\n",
       "      <td>59.750</td>\n",
       "      <td>25.875</td>\n",
       "      <td>63.250</td>\n",
       "      <td>16.500</td>\n",
       "      <td>47.500</td>\n",
       "      <td>35.500</td>\n",
       "    </tr>\n",
       "  </tbody>\n",
       "</table>\n",
       "</div>"
      ],
      "text/plain": [
       "   company1  company2  company3  company4  company5  company6  company7  \\\n",
       "0    17.219    50.500    18.750    43.000    60.875    26.375    67.750   \n",
       "1    17.891    51.375    19.625    44.000    62.000    26.125    68.125   \n",
       "2    18.438    50.875    19.875    43.875    61.875    27.250    68.500   \n",
       "3    18.672    51.500    20.000    44.000    62.625    27.875    69.375   \n",
       "4    17.438    49.000    20.000    41.375    59.750    25.875    63.250   \n",
       "\n",
       "   company8  company9  company10  \n",
       "0    19.000    48.750     34.875  \n",
       "1    19.125    48.750     35.625  \n",
       "2    18.250    49.000     36.375  \n",
       "3    18.375    49.625     36.250  \n",
       "4    16.500    47.500     35.500  "
      ]
     },
     "execution_count": 3,
     "metadata": {},
     "output_type": "execute_result"
    }
   ],
   "source": [
    "data.head()"
   ]
  },
  {
   "cell_type": "code",
   "execution_count": 6,
   "metadata": {},
   "outputs": [
    {
     "data": {
      "text/plain": [
       "(950, 10)"
      ]
     },
     "execution_count": 6,
     "metadata": {},
     "output_type": "execute_result"
    }
   ],
   "source": [
    "data.shape"
   ]
  },
  {
   "cell_type": "markdown",
   "metadata": {},
   "source": [
    "####  Here you can see that there are data of 10 companies but in my project I will use only one company stocks. "
   ]
  },
  {
   "cell_type": "markdown",
   "metadata": {},
   "source": [
    "### Other things required for the project"
   ]
  },
  {
   "cell_type": "markdown",
   "metadata": {},
   "source": [
    "* `pandas` for dataframes\n",
    "* `numpy` for mathematical operation on data\n",
    "* `matplotlib` for visualization\n",
    "* `keras` to run models\n",
    "* `sklearn` for to use pre-built models\n",
    "* `tenserflow` to create models\n",
    "* `tkinter` to make GUI"
   ]
  },
  {
   "cell_type": "code",
   "execution_count": null,
   "metadata": {},
   "outputs": [],
   "source": []
  }
 ],
 "metadata": {
  "kernelspec": {
   "display_name": "Python 3",
   "language": "python",
   "name": "python3"
  },
  "language_info": {
   "codemirror_mode": {
    "name": "ipython",
    "version": 3
   },
   "file_extension": ".py",
   "mimetype": "text/x-python",
   "name": "python",
   "nbconvert_exporter": "python",
   "pygments_lexer": "ipython3",
   "version": "3.6.5"
  }
 },
 "nbformat": 4,
 "nbformat_minor": 2
}
